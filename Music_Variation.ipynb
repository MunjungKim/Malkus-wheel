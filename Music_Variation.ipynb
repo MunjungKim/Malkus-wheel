{
 "cells": [
  {
   "cell_type": "markdown",
   "metadata": {},
   "source": [
    "# Topic2 : Musical Variation"
   ]
  },
  {
   "cell_type": "markdown",
   "metadata": {},
   "source": [
    "Ref : [Musical Variation with Lorenz system](https://aip.scitation.org/doi/10.1063/1.166171)"
   ]
  },
  {
   "cell_type": "code",
   "execution_count": null,
   "metadata": {},
   "outputs": [],
   "source": [
    "import numpy as np\n",
    "\n",
    "samplerate = 44100 #Frequecy in Hz\n",
    "\n",
    "def get_wave(freq, duration=0.5):\n",
    "    '''\n",
    "    Function takes the \"frequecy\" and \"time_duration\" for a wave \n",
    "    as the input and returns a \"numpy array\" of values at all points \n",
    "    in time\n",
    "    '''\n",
    "    \n",
    "    amplitude = 4096\n",
    "    t = np.linspace(0, duration, int(samplerate * duration))\n",
    "    wave = amplitude * np.sin(2 * np.pi * freq * t)\n",
    "    \n",
    "    return wave\n",
    "\n",
    "# To get a 1 second long wave of frequency 440Hz\n",
    "a_wave = get_wave(440, 1)\n",
    "\n",
    "#wave features\n",
    "print(len(a_wave)) # 44100\n",
    "print(np.max(a_wave)) # 4096\n",
    "print(np.min(a_wave)) # -4096"
   ]
  },
  {
   "cell_type": "code",
   "execution_count": null,
   "metadata": {},
   "outputs": [],
   "source": [
    "from pprint import pprint\n",
    "\n",
    "def get_piano_notes():\n",
    "\n",
    "    # White keys are in Uppercase and black keys (sharps) are in lowercase\n",
    "    octave = ['C', 'c', 'D', 'd', 'E', 'F', 'f', 'G', 'g', 'A', 'a', 'B'] \n",
    "    base_freq = 261.63 #Frequency of Note C4\n",
    "    \n",
    "    note_freqs = {octave[i]: base_freq * pow(2,(i/12)) for i in range(len(octave))}        \n",
    "    note_freqs[''] = 0.0 # silent note\n",
    "    \n",
    "    return note_freqs\n",
    "  \n",
    "  # To get the piano note's frequencies\n",
    "note_freqs = get_piano_notes()\n",
    "pprint(note_freqs)"
   ]
  },
  {
   "cell_type": "code",
   "execution_count": null,
   "metadata": {},
   "outputs": [],
   "source": [
    "import numpy as np\n",
    "\n",
    "def get_song_data(music_notes):\n",
    "    '''\n",
    "    Function to concatenate all the waves (notes)\n",
    "    '''\n",
    "    note_freqs = get_piano_notes() # Function that we made earlier\n",
    "    song = [get_wave(note_freqs[note]) for note in music_notes.split('-')]\n",
    "    song = np.concatenate(song)\n",
    "    return song\n",
    "\n",
    "music_notes = 'C-C-G-G-A-A-G-F-F-E-E-D-D-C-G-G-F-F-E-E-D-G-G-F-F-E-E-D-C-C-G-G-A-A-G-F-F-E-E-D-D-C'\n",
    "data = get_song_data(music_notes)\n",
    "\n",
    "data = data * (16300/np.max(data)) # Adjusting the Amplitude (Optional)"
   ]
  },
  {
   "cell_type": "code",
   "execution_count": null,
   "metadata": {},
   "outputs": [],
   "source": [
    "from scipy.io.wavfile import write\n",
    "write('twinkle-twinkle.wav', samplerate, data.astype(np.int16))"
   ]
  }
 ],
 "metadata": {
  "kernelspec": {
   "display_name": "Python 3",
   "language": "python",
   "name": "python3"
  },
  "language_info": {
   "codemirror_mode": {
    "name": "ipython",
    "version": 3
   },
   "file_extension": ".py",
   "mimetype": "text/x-python",
   "name": "python",
   "nbconvert_exporter": "python",
   "pygments_lexer": "ipython3",
   "version": "3.8.5"
  }
 },
 "nbformat": 4,
 "nbformat_minor": 4
}
